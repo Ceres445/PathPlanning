{
  "nbformat": 4,
  "nbformat_minor": 0,
  "metadata": {
    "colab": {
      "provenance": []
    },
    "kernelspec": {
      "name": "python3",
      "display_name": "Python 3"
    },
    "language_info": {
      "name": "python"
    }
  },
  "cells": [
    {
      "cell_type": "code",
      "execution_count": null,
      "metadata": {
        "id": "OXbqZWFozJTY",
        "colab": {
          "base_uri": "https://localhost:8080/"
        },
        "outputId": "ff588ae7-f33c-4324-d32b-f26c48097cf7"
      },
      "outputs": [
        {
          "output_type": "stream",
          "name": "stdout",
          "text": [
            "Looking in indexes: https://pypi.org/simple, https://us-python.pkg.dev/colab-wheels/public/simple/\n",
            "Requirement already satisfied: matplotlib in /usr/local/lib/python3.8/dist-packages (3.2.2)\n",
            "Requirement already satisfied: pyparsing!=2.0.4,!=2.1.2,!=2.1.6,>=2.0.1 in /usr/local/lib/python3.8/dist-packages (from matplotlib) (3.0.9)\n",
            "Requirement already satisfied: cycler>=0.10 in /usr/local/lib/python3.8/dist-packages (from matplotlib) (0.11.0)\n",
            "Requirement already satisfied: numpy>=1.11 in /usr/local/lib/python3.8/dist-packages (from matplotlib) (1.21.6)\n",
            "Requirement already satisfied: python-dateutil>=2.1 in /usr/local/lib/python3.8/dist-packages (from matplotlib) (2.8.2)\n",
            "Requirement already satisfied: kiwisolver>=1.0.1 in /usr/local/lib/python3.8/dist-packages (from matplotlib) (1.4.4)\n",
            "Requirement already satisfied: six>=1.5 in /usr/local/lib/python3.8/dist-packages (from python-dateutil>=2.1->matplotlib) (1.15.0)\n"
          ]
        }
      ],
      "source": [
        "!pip install matplotlib\n"
      ]
    },
    {
      "cell_type": "code",
      "source": [
        "import random\n",
        "import matplotlib.pyplot as plt\n",
        "import matplotlib\n",
        "\n",
        "\n",
        "\n",
        "\n",
        "class Cell:\n",
        "\n",
        "    # A wall separates a pair of cells in the N-S or W-E directions.\n",
        "    wall_pairs = {\"North\": \"South\", \"South\": \"North\", \"East\": \"West\", \"West\": \"East\"}\n",
        "\n",
        "    def __init__(self, x, y):\n",
        "        \"\"\"Initialize the cell at (x,y). At first it is surrounded by walls.\"\"\"\n",
        "\n",
        "        self.x, self.y = x, y\n",
        "        self.walls = {\"North\": True, \"South\": True, \"East\": True, \"West\": True}\n",
        "        self.entrance = None\n",
        "        self.exit = None\n",
        "\n",
        "    def has_all_walls(self):\n",
        "        \"\"\"Does this cell still have all its walls?\"\"\"\n",
        "\n",
        "        return all(self.walls.values())\n",
        "\n",
        "    def knock_down_wall(self, other, wall):\n",
        "        \"\"\"Knock down the wall between cells self and other.\"\"\"\n",
        "\n",
        "        self.walls[wall] = False\n",
        "        other.walls[Cell.wall_pairs[wall]] = False\n",
        "\n",
        "\n",
        "class Maze:\n",
        "    \"\"\"A Maze, represented as a grid of cells.\"\"\"\n",
        "\n",
        "    def __init__(self, nx, ny, ix=0, iy=0):\n",
        "        \"\"\"Initialize the maze grid.\n",
        "        The maze consists of nx x ny cells and will be constructed starting\n",
        "        at the cell indexed at (ix, iy).\n",
        "\n",
        "        \"\"\"\n",
        "\n",
        "        self.nx, self.ny = nx, ny\n",
        "        self.ix, self.iy = ix, iy\n",
        "        self.maze_map = [[Cell(x, y) for y in range(ny)] for x in range(nx)]\n",
        "\n",
        "    def cell_at(self, x, y):\n",
        "        \"\"\"Return the Cell object at (x,y).\"\"\"\n",
        "\n",
        "        return self.maze_map[x][y]\n",
        "\n",
        "    def __str__(self):\n",
        "        \"\"\"Return a (crude) string representation of the maze.\"\"\"\n",
        "\n",
        "        maze_rows = [\"-\" * self.nx * 2]\n",
        "        for y in range(self.ny):\n",
        "            maze_row = [\"|\"]\n",
        "            for x in range(self.nx):\n",
        "                if self.maze_map[x][y].walls[\"East\"]:\n",
        "                    maze_row.append(\" |\")\n",
        "                else:\n",
        "                    maze_row.append(\"  \")\n",
        "            maze_rows.append(\"\".join(maze_row))\n",
        "            maze_row = [\"|\"]\n",
        "            for x in range(self.nx):\n",
        "                if self.maze_map[x][y].walls[\"South\"]:\n",
        "                    maze_row.append(\"-+\")\n",
        "                else:\n",
        "                    maze_row.append(\" +\")\n",
        "            maze_rows.append(\"\".join(maze_row))\n",
        "        return \"\\n\".join(maze_rows)\n",
        "\n",
        "    def plot(self):\n",
        "        \"\"\"Plots the maze in matplotlib.\"\"\"\n",
        "        maze = [[0 for _ in range(self.nx * 2 + 1)]]\n",
        "        for y in range(self.ny):\n",
        "            row1 = [0]  # start each row with a wall\n",
        "            row2 = [0]\n",
        "            for x in range(self.nx):\n",
        "                if not self.maze_map[x][y].walls[\"East\"]:\n",
        "                    row1.append(1)  # spaces are ones and walls are zeros\n",
        "                    row1.append(1)\n",
        "                else:\n",
        "                    row1.append(1)\n",
        "                    row1.append(0)\n",
        "                if self.maze_map[x][y].walls[\"South\"]:\n",
        "                    row2.append(0)\n",
        "                    row2.append(0)\n",
        "                else:\n",
        "\n",
        "                    row2.append(1)\n",
        "                    row2.append(0)\n",
        "            maze.append(row1)\n",
        "            maze.append(row2)\n",
        "        maze[self.entrance * 2 + 1][0] = 1  # open entrance and exit\n",
        "        maze[self.exit * 2 + 1][-1] = 1\n",
        "        _, ax = plt.subplots()\n",
        "\n",
        "        # type hint for lsp\n",
        "        ax: matplotlib.axes.Axes = ax\n",
        "        ax.pcolormesh(maze, cmap='gray')\n",
        "        # plt.pcolormesh(maze)\n",
        "        ax.set_aspect(\"equal\")\n",
        "        # plt.axes().set_aspect(\"equal\")  # set the x and y axes to the same scale\n",
        "        plt.xticks([])  # remove the tick marks by setting to an empty list\n",
        "        plt.yticks([])  # remove the tick marks by setting to an empty list\n",
        "        # plt.axes().invert_yaxis()  # invert the y-axis so the first row of data is at the top\n",
        "        # plt.savefig(\"tet.png\")\n",
        "        ax.invert_yaxis()\n",
        "\n",
        "        plt.show()\n",
        "\n",
        "    def find_valid_neighbours(self, cell):\n",
        "        \"\"\"Return a list of unvisited neighbours to cell.\"\"\"\n",
        "\n",
        "        directions = [(\"West\", (-1, 0)), (\"East\", (1, 0)), (\"South\", (0, 1)), (\"North\", (0, -1))]\n",
        "        neighbours = []\n",
        "        for direction, (dx, dy) in directions:\n",
        "            x2, y2 = cell.x + dx, cell.y + dy\n",
        "            if (0 <= x2 < self.nx) and (0 <= y2 < self.ny):\n",
        "                neighbour = self.cell_at(x2, y2)\n",
        "                if neighbour.has_all_walls():\n",
        "                    neighbours.append((direction, neighbour))\n",
        "        return neighbours\n",
        "\n",
        "    def make_maze(self):\n",
        "        # Total number of cells.\n",
        "        n = self.nx * self.ny\n",
        "        cell_stack = []\n",
        "        current_cell = self.cell_at(self.ix, self.iy)\n",
        "        # Total number of visited cells during maze construction.\n",
        "        nv = 1\n",
        "\n",
        "        while nv < n:\n",
        "            neighbours = self.find_valid_neighbours(current_cell)\n",
        "\n",
        "            if not neighbours:\n",
        "                # We've reached a dead end: backtrack.\n",
        "                current_cell = cell_stack.pop()\n",
        "                continue\n",
        "            # Choose a random neighbouring cell and move to it.\n",
        "            direction, next_cell = random.choice(neighbours)\n",
        "            current_cell.knock_down_wall(next_cell, direction)\n",
        "            cell_stack.append(current_cell)\n",
        "            current_cell = next_cell\n",
        "            nv += 1\n",
        "        for y in range(self.ny):\n",
        "            if self.maze_map[y][0].walls[\"East\"] or self.maze_map[y][0].walls[\"South\"]:\n",
        "                self.entrance = y\n",
        "                break\n",
        "        for y in range(self.ny - 1, 0, -1):\n",
        "            if self.maze_map[y][0].walls[\"West\"] or self.maze_map[y][0].walls[\"North\"]:\n",
        "                self.exit = y\n",
        "                break\n"
      ],
      "metadata": {
        "id": "f73H07vJMav4"
      },
      "execution_count": null,
      "outputs": []
    },
    {
      "cell_type": "code",
      "source": [
        "szzzzzzzznx, ny = 10, 10\n",
        "# Maze entry position\n",
        "ix, iy = 0, 0\n",
        "\n",
        "maze = Maze(nx, ny, ix, iy)\n",
        "maze.make_maze()\n",
        "print(maze)\n",
        "maze.plot()\n"
      ],
      "metadata": {
        "colab": {
          "base_uri": "https://localhost:8080/",
          "height": 616
        },
        "id": "PmyX30UBSH2a",
        "outputId": "0ec3eab2-1bd6-41b5-8b9c-c3805475a05f"
      },
      "execution_count": null,
      "outputs": [
        {
          "output_type": "stream",
          "name": "stdout",
          "text": [
            "--------------------\n",
            "| |               | |\n",
            "| + +-+-+ +-+-+-+ + +\n",
            "| |   | |   |       |\n",
            "| +-+ + +-+ +-+-+-+ +\n",
            "| | |     |       | |\n",
            "| + + +-+-+-+-+-+ + +\n",
            "| |   |       |   | |\n",
            "| +-+-+ +-+-+ + +-+ +\n",
            "| |   | |     |   | |\n",
            "| + + + + +-+-+ + + +\n",
            "|   |   |   |   | | |\n",
            "|-+-+-+-+-+ +-+-+ + +\n",
            "|   |       |     | |\n",
            "| + + +-+-+-+ +-+-+-+\n",
            "| |   |     |       |\n",
            "| +-+-+ + + + +-+-+ +\n",
            "|   |   | | |   |   |\n",
            "|-+ +-+-+ + +-+-+ + +\n",
            "|         |       | |\n",
            "|-+-+-+-+-+-+-+-+-+-+\n"
          ]
        },
        {
          "output_type": "display_data",
          "data": {
            "text/plain": [
              "<Figure size 432x288 with 1 Axes>"
            ],
            "image/png": "[encoded data removed]"
          },
          "metadata": {}
        }
      ]
    },
    {
      "cell_type": "code",
      "source": [
        "import random\n",
        "import matplotlib.pyplot as plt\n",
        "\n",
        "# Create an empty maze\n",
        "maze = []\n",
        "\n",
        "# Populate the maze with a grid of walls\n",
        "for i in range(10):\n",
        "    row = []\n",
        "    for j in range(10):\n",
        "        row.append(1)\n",
        "    maze.append(row)\n",
        "\n",
        "# Generate the maze\n",
        "for i in range(1, 9):\n",
        "    for j in range(1, 9):\n",
        "        if random.random() < 0.5:\n",
        "            maze[i][j] = 0\n",
        "\n",
        "# Plot the maze using matplotlib\n",
        "plt.imshow(maze, cmap=\"binary\")\n",
        "plt.show()"
      ],
      "metadata": {
        "colab": {
          "base_uri": "https://localhost:8080/",
          "height": 265
        },
        "id": "3qX4enx8umu_",
        "outputId": "cbb7b262-9061-45d6-cbd2-80ac75d8577f"
      },
      "execution_count": null,
      "outputs": [
        {
          "output_type": "display_data",
          "data": {
            "text/plain": [
              "<Figure size 432x288 with 1 Axes>"
            ],
            "image/png": "[encoded data removed]"
          },
          "metadata": {
            "needs_background": "light"
          }
        }
      ]
    }
  ]
}